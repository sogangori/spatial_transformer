{
 "cells": [
  {
   "cell_type": "code",
   "execution_count": 1,
   "metadata": {},
   "outputs": [
    {
     "name": "stderr",
     "output_type": "stream",
     "text": [
      "Using TensorFlow backend.\n"
     ]
    }
   ],
   "source": [
    "import numpy as np\n",
    "import matplotlib.pyplot as plt\n",
    "from scipy.stats import multivariate_normal\n",
    "import tensorflow as tf\n",
    "import tensorflow.contrib.slim as slim\n",
    "import os\n",
    "import keras"
   ]
  },
  {
   "cell_type": "code",
   "execution_count": 13,
   "metadata": {},
   "outputs": [],
   "source": [
    "os.environ[\"CUDA_VISIBLE_DEVICES\"] = ''"
   ]
  },
  {
   "cell_type": "code",
   "execution_count": 21,
   "metadata": {},
   "outputs": [],
   "source": [
    "np.set_printoptions(precision=3, linewidth=200, suppress=True)"
   ]
  },
  {
   "cell_type": "code",
   "execution_count": 3,
   "metadata": {},
   "outputs": [],
   "source": [
    "mnist_data = keras.datasets.mnist.load_data()"
   ]
  },
  {
   "cell_type": "code",
   "execution_count": 4,
   "metadata": {},
   "outputs": [
    {
     "data": {
      "text/plain": [
       "(2, 2)"
      ]
     },
     "execution_count": 4,
     "metadata": {},
     "output_type": "execute_result"
    }
   ],
   "source": [
    "len(mnist_data),len(mnist_data[0])"
   ]
  },
  {
   "cell_type": "code",
   "execution_count": 5,
   "metadata": {},
   "outputs": [
    {
     "data": {
      "text/plain": [
       "((10000, 28, 28), (10000,))"
      ]
     },
     "execution_count": 5,
     "metadata": {},
     "output_type": "execute_result"
    }
   ],
   "source": [
    "mnist_data[0][0].shape, mnist_data[0][1].shape,\n",
    "mnist_data[1][0].shape, mnist_data[1][1].shape"
   ]
  },
  {
   "cell_type": "code",
   "execution_count": 6,
   "metadata": {},
   "outputs": [
    {
     "data": {
      "text/plain": [
       "((60000, 28, 28), (60000,), (10000, 28, 28), (10000,), 255, 9)"
      ]
     },
     "execution_count": 6,
     "metadata": {},
     "output_type": "execute_result"
    }
   ],
   "source": [
    "x_train = mnist_data[0][0]\n",
    "y_train = mnist_data[0][1]\n",
    "x_test = mnist_data[1][0]\n",
    "y_test = mnist_data[1][1]\n",
    "x_train.shape, y_train.shape, x_test.shape, y_test.shape, np.max(x_train), np.max(y_train)"
   ]
  },
  {
   "cell_type": "code",
   "execution_count": 7,
   "metadata": {
    "scrolled": true
   },
   "outputs": [
    {
     "data": {
      "text/plain": [
       "Text(0.5, 1.0, '5')"
      ]
     },
     "execution_count": 7,
     "metadata": {},
     "output_type": "execute_result"
    },
    {
     "data": {
      "image/png": "[encoded data removed]",
      "text/plain": [
       "<Figure size 432x288 with 1 Axes>"
      ]
     },
     "metadata": {
      "needs_background": "light"
     },
     "output_type": "display_data"
    }
   ],
   "source": [
    "plt.imshow(x_train[0], cmap='gray')\n",
    "plt.title(y_train[0])"
   ]
  },
  {
   "cell_type": "code",
   "execution_count": 215,
   "metadata": {},
   "outputs": [],
   "source": [
    "import module"
   ]
  },
  {
   "cell_type": "code",
   "execution_count": 291,
   "metadata": {},
   "outputs": [],
   "source": [
    "def transformation(x):\n",
    "    basic_shape = tf.shape(x[:,0,0,0])\n",
    "    \n",
    "    s = 0.2\n",
    "    t = a = 0.4\n",
    "    sx = tf.random_uniform(basic_shape,1-s, 1+s)\n",
    "    ax = tf.random_uniform(basic_shape,-a, a)\n",
    "    tx = tf.random_uniform(basic_shape,-a, a)\n",
    "    sy = tf.random_uniform(basic_shape,1-s, 1+s)\n",
    "    ay = tf.random_uniform(basic_shape,-a, a)\n",
    "    ty = tf.random_uniform(basic_shape,-a, a)\n",
    "    ones = tf.ones_like(sx)\n",
    "    zeros = tf.zeros_like(sx)\n",
    "    #transforms = [sx, ax, tx, ay, sy, ty, 0, 0]\n",
    "    #transforms = [sx, 0, -tx, 0, 1, -ty, 0, 0] \n",
    "    #coef = tf.stack((sx, ax,tx, ay, sy, ty, ones, ones), -1)\n",
    "    transforms = tf.stack((sx, ax, tx, ay, sy, ty, zeros, zeros), -1)\n",
    "    return tf.contrib.image.transform(x, transforms)#, interpolation='BILINEAR')"
   ]
  },
  {
   "cell_type": "code",
   "execution_count": 292,
   "metadata": {},
   "outputs": [],
   "source": [
    "def rotate(x, max_angle):\n",
    "    max_angle = tf.cast(max_angle, tf.float32)\n",
    "    degree = tf.random_uniform(tf.shape(x[:,0,0,0]),-max_angle, max_angle)\n",
    "    #degree = max_angle\n",
    "    radian = degree * np.pi / 180\n",
    "    return tf.contrib.image.rotate(x, radian, interpolation='BILINEAR') #NEAREST, BILINEAR"
   ]
  },
  {
   "cell_type": "code",
   "execution_count": 301,
   "metadata": {},
   "outputs": [],
   "source": [
    "def inference(x):\n",
    "    net = slim.conv2d(x, 32, kernel_size=[7,7], stride=2)\n",
    "    net = slim.conv2d(net, 64, kernel_size=[3,3], stride=2)\n",
    "    theta = slim.conv2d(net, 6, kernel_size=[3,3])\n",
    "    \n",
    "    return net, theta[:, 3, 3]"
   ]
  },
  {
   "cell_type": "code",
   "execution_count": 305,
   "metadata": {},
   "outputs": [],
   "source": [
    "is_scratch = False\n",
    "pkt = 'check.pkt'"
   ]
  },
  {
   "cell_type": "code",
   "execution_count": 306,
   "metadata": {},
   "outputs": [
    {
     "name": "stdout",
     "output_type": "stream",
     "text": [
      "INFO:tensorflow:Restoring parameters from check.pkt\n"
     ]
    }
   ],
   "source": [
    "learning_rate = 0.5\n",
    "tf.reset_default_graph()\n",
    "X = tf.placeholder(tf.uint8, [None, 28, 28])\n",
    "x_4d = tf.expand_dims(X, -1)\n",
    "x = tf.cast(x_4d, tf.float32)/255.0\n",
    "\n",
    "if is_scratch:    \n",
    "    x_rotate = rotate(x, 10)\n",
    "else:\n",
    "    x_rotate = rotate(x, 45)\n",
    "    x_rotate = transformation(x)\n",
    "    \n",
    "net, theta = inference(x_rotate)\n",
    "theta = tf.reshape(theta, [-1, 2, 3])\n",
    "theta_initial = tf.reshape([1,0,0,0,1,0.0], [-1, 2, 3])\n",
    "\n",
    "if is_scratch:    \n",
    "    cost = tf.reduce_mean(tf.square(theta - theta_initial))    \n",
    "    m = tf.shape(x)[0]\n",
    "    theta = tf.tile(theta_initial, [m,1,1])\n",
    "    \n",
    "out = module.spatial_transformer_network(x_rotate, theta)\n",
    "\n",
    "if not is_scratch:\n",
    "    cost = tf.reduce_mean(tf.square(x - out))\n",
    "    \n",
    "train = tf.train.GradientDescentOptimizer(learning_rate).minimize(cost)\n",
    "saver = tf.train.Saver()\n",
    "sess = tf.InteractiveSession()\n",
    "if is_scratch:\n",
    "    sess.run(tf.global_variables_initializer())\n",
    "else:\n",
    "    saver.restore(sess, pkt)"
   ]
  },
  {
   "cell_type": "code",
   "execution_count": 308,
   "metadata": {},
   "outputs": [
    {
     "name": "stdout",
     "output_type": "stream",
     "text": [
      "0 0.092631176\n",
      "100 0.086843684\n",
      "200 0.08738447\n",
      "300 0.09569802\n",
      "400 0.0844318\n",
      "500 0.088995226\n",
      "600 0.08348555\n",
      "700 0.086296774\n",
      "800 0.085979946\n",
      "900 0.08491499\n"
     ]
    },
    {
     "data": {
      "image/png": "[encoded data removed]",
      "text/plain": [
       "<Figure size 432x288 with 30 Axes>"
      ]
     },
     "metadata": {
      "needs_background": "light"
     },
     "output_type": "display_data"
    }
   ],
   "source": [
    "np.set_printoptions(precision=3, linewidth=200, suppress=True)\n",
    "\n",
    "data_m = 100\n",
    "epoch = 1000\n",
    "for i in range(epoch):\n",
    "    _, _cost, out_sample = sess.run([train, cost, out], {X:x_train[:data_m], )\n",
    "    if i%(epoch//10)==0:\n",
    "        print(i, _cost)\n",
    "        \n",
    "saver.save(sess, pkt)\n",
    "\n",
    "_x, _x_rot, _out = sess.run([x, x_rotate, out], {X:x_train[:data_m]})\n",
    "display_img = np.stack((_x, _x_rot, _out), axis=0)\n",
    "display_img = np.squeeze(display_img, -1)\n",
    "display_img = (display_img*255).astype(np.uint8)\n",
    "\n",
    "display_m = min(data_m, 10)\n",
    "fig, ax=plt.subplots(3, display_m)\n",
    "for i in range(display_m):    \n",
    "    ax[0, i].imshow(display_img[0, i])\n",
    "    ax[1, i].imshow(display_img[1, i])\n",
    "    ax[2, i].imshow(display_img[2, i])"
   ]
  },
  {
   "cell_type": "code",
   "execution_count": 300,
   "metadata": {},
   "outputs": [
    {
     "name": "stdout",
     "output_type": "stream",
     "text": [
      "0 0.08293901\n",
      "500 0.06424119\n",
      "1000 0.048063252\n",
      "1500 0.0593247\n",
      "2000 0.07429648\n",
      "2500 0.06738982\n",
      "3000 0.061619136\n",
      "3500 0.0520826\n",
      "4000 0.077277474\n",
      "4500 0.063593894\n"
     ]
    },
    {
     "data": {
      "image/png": "[encoded data removed]",
      "text/plain": [
       "<Figure size 432x288 with 30 Axes>"
      ]
     },
     "metadata": {
      "needs_background": "light"
     },
     "output_type": "display_data"
    }
   ],
   "source": [
    "np.set_printoptions(precision=3, linewidth=200, suppress=True)\n",
    "\n",
    "data_m = 10\n",
    "epoch = 5000\n",
    "for i in range(epoch):\n",
    "    _, _cost, out_sample = sess.run([train, cost, out], {X:x_train[:data_m]})\n",
    "    if i%(epoch//10)==0:\n",
    "        print(i, _cost)\n",
    "        \n",
    "saver.save(sess, pkt)\n",
    "\n",
    "_x, _x_rot, _out = sess.run([x, x_rotate, out], {X:x_train[:data_m]})\n",
    "display_img = np.stack((_x, _x_rot, _out), axis=0)\n",
    "display_img = np.squeeze(display_img, -1)\n",
    "display_img = (display_img*255).astype(np.uint8)\n",
    "\n",
    "fig, ax=plt.subplots(3, data_m)\n",
    "for i in range(data_m):    \n",
    "    ax[0, i].imshow(display_img[0, i])\n",
    "    ax[1, i].imshow(display_img[1, i])\n",
    "    ax[2, i].imshow(display_img[2, i])"
   ]
  },
  {
   "cell_type": "code",
   "execution_count": null,
   "metadata": {},
   "outputs": [],
   "source": []
  }
 ],
 "metadata": {
  "kernelspec": {
   "display_name": "Python 3",
   "language": "python",
   "name": "python3"
  },
  "language_info": {
   "codemirror_mode": {
    "name": "ipython",
    "version": 3
   },
   "file_extension": ".py",
   "mimetype": "text/x-python",
   "name": "python",
   "nbconvert_exporter": "python",
   "pygments_lexer": "ipython3",
   "version": "3.7.1"
  }
 },
 "nbformat": 4,
 "nbformat_minor": 2
}
