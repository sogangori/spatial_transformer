{
 "cells": [
  {
   "cell_type": "code",
   "execution_count": 1,
   "metadata": {},
   "outputs": [
    {
     "name": "stderr",
     "output_type": "stream",
     "text": [
      "Using TensorFlow backend.\n"
     ]
    }
   ],
   "source": [
    "import numpy as np\n",
    "import matplotlib.pyplot as plt\n",
    "from scipy.stats import multivariate_normal\n",
    "import tensorflow as tf\n",
    "import tensorflow.contrib.slim as slim\n",
    "import os\n",
    "import keras"
   ]
  },
  {
   "cell_type": "markdown",
   "metadata": {},
   "source": [
    "os.environ[\"CUDA_VISIBLE_DEVICES\"] = ''"
   ]
  },
  {
   "cell_type": "code",
   "execution_count": 2,
   "metadata": {},
   "outputs": [],
   "source": [
    "np.set_printoptions(precision=3, linewidth=200, suppress=True)"
   ]
  },
  {
   "cell_type": "code",
   "execution_count": 3,
   "metadata": {},
   "outputs": [],
   "source": [
    "mnist_data = keras.datasets.mnist.load_data()"
   ]
  },
  {
   "cell_type": "code",
   "execution_count": 4,
   "metadata": {},
   "outputs": [
    {
     "data": {
      "text/plain": [
       "(2, 2)"
      ]
     },
     "execution_count": 4,
     "metadata": {},
     "output_type": "execute_result"
    }
   ],
   "source": [
    "len(mnist_data),len(mnist_data[0])"
   ]
  },
  {
   "cell_type": "code",
   "execution_count": 5,
   "metadata": {},
   "outputs": [
    {
     "data": {
      "text/plain": [
       "((10000, 28, 28), (10000,))"
      ]
     },
     "execution_count": 5,
     "metadata": {},
     "output_type": "execute_result"
    }
   ],
   "source": [
    "mnist_data[0][0].shape, mnist_data[0][1].shape,\n",
    "mnist_data[1][0].shape, mnist_data[1][1].shape"
   ]
  },
  {
   "cell_type": "code",
   "execution_count": 6,
   "metadata": {},
   "outputs": [
    {
     "data": {
      "text/plain": [
       "((60000, 28, 28), (60000,), (10000, 28, 28), (10000,), 255, 9)"
      ]
     },
     "execution_count": 6,
     "metadata": {},
     "output_type": "execute_result"
    }
   ],
   "source": [
    "x_train = mnist_data[0][0]\n",
    "y_train = mnist_data[0][1]\n",
    "x_test = mnist_data[1][0]\n",
    "y_test = mnist_data[1][1]\n",
    "x_train.shape, y_train.shape, x_test.shape, y_test.shape, np.max(x_train), np.max(y_train)"
   ]
  },
  {
   "cell_type": "code",
   "execution_count": 7,
   "metadata": {
    "scrolled": true
   },
   "outputs": [
    {
     "data": {
      "text/plain": [
       "Text(0.5, 1.0, '5')"
      ]
     },
     "execution_count": 7,
     "metadata": {},
     "output_type": "execute_result"
    },
    {
     "data": {
      "image/png": "[encoded data removed]",
      "text/plain": [
       "<Figure size 432x288 with 1 Axes>"
      ]
     },
     "metadata": {
      "needs_background": "light"
     },
     "output_type": "display_data"
    }
   ],
   "source": [
    "plt.imshow(x_train[0], cmap='gray')\n",
    "plt.title(y_train[0])"
   ]
  },
  {
   "cell_type": "code",
   "execution_count": 8,
   "metadata": {},
   "outputs": [],
   "source": [
    "import module"
   ]
  },
  {
   "cell_type": "code",
   "execution_count": 9,
   "metadata": {},
   "outputs": [],
   "source": [
    "def transformation(x):\n",
    "    basic_shape = tf.shape(x[:,0,0,0])\n",
    "    \n",
    "    s = 0.2\n",
    "    t = a = 0.2\n",
    "    sx = tf.random_uniform(basic_shape,1-s, 1+s)\n",
    "    ax = tf.random_uniform(basic_shape,-a, a)\n",
    "    tx = tf.random_uniform(basic_shape,-a, a)\n",
    "    sy = tf.random_uniform(basic_shape,1-s, 1+s)\n",
    "    ay = tf.random_uniform(basic_shape,-a, a)\n",
    "    ty = tf.random_uniform(basic_shape,-a, a)\n",
    "    ones = tf.ones_like(sx)\n",
    "    zeros = tf.zeros_like(sx)\n",
    "    #transforms = [sx, ax, tx, ay, sy, ty, 0, 0]\n",
    "    #transforms = [sx, 0, -tx, 0, 1, -ty, 0, 0] \n",
    "    #coef = tf.stack((sx, ax,tx, ay, sy, ty, ones, ones), -1)\n",
    "    transforms = tf.stack((sx, ax, tx, ay, sy, ty, zeros, zeros), -1)\n",
    "    return tf.contrib.image.transform(x, transforms)#, interpolation='BILINEAR')"
   ]
  },
  {
   "cell_type": "code",
   "execution_count": 10,
   "metadata": {},
   "outputs": [],
   "source": [
    "def rotate(x, max_angle):\n",
    "    max_angle = tf.cast(max_angle, tf.float32)\n",
    "    degree = tf.random_uniform(tf.shape(x[:,0,0,0]),-max_angle, max_angle)\n",
    "    #degree = max_angle\n",
    "    radian = degree * np.pi / 180\n",
    "    return tf.contrib.image.rotate(x, radian, interpolation='BILINEAR') #NEAREST, BILINEAR"
   ]
  },
  {
   "cell_type": "code",
   "execution_count": 11,
   "metadata": {},
   "outputs": [],
   "source": [
    "def display_output(display_img):    \n",
    "    display_img = np.squeeze(display_img, -1)\n",
    "    display_img = (display_img*255).astype(np.uint8)\n",
    "\n",
    "    display_m = min(data_m, 10)\n",
    "    fig, ax=plt.subplots(3, display_m)\n",
    "    for i in range(display_m):    \n",
    "        ax[0, i].imshow(display_img[0, i])\n",
    "        ax[1, i].imshow(display_img[1, i])\n",
    "        ax[2, i].imshow(display_img[2, i])"
   ]
  },
  {
   "cell_type": "code",
   "execution_count": 37,
   "metadata": {},
   "outputs": [],
   "source": [
    "is_scratch = False\n",
    "pkt = 'check1.pkt'"
   ]
  },
  {
   "cell_type": "code",
   "execution_count": 38,
   "metadata": {},
   "outputs": [],
   "source": [
    "def inference(x):\n",
    "    with slim.arg_scope([slim.fully_connected, slim.conv2d, slim.conv1d], weights_regularizer=slim.l2_regularizer(0.00001)):\n",
    "        net = slim.conv2d(x, 32, kernel_size=[7,7], stride=2)\n",
    "        net = slim.conv2d(net, 64, kernel_size=[3,3])\n",
    "        net = slim.max_pool2d(net, kernel_size=[2,2])\n",
    "        net = slim.conv2d(net, 128, kernel_size=[3,3])    \n",
    "        net_theta = slim.conv2d(net, 6, kernel_size=[3,3])\n",
    "        theta = net_theta[:, 3, 3]\n",
    "        theta_original = theta = tf.reshape(theta, [-1, 2, 3])\n",
    "\n",
    "        if is_scratch:        \n",
    "            m = tf.shape(x)[0]\n",
    "            theta_initial = tf.reshape([1,0,0,0,1,0.0], [-1, 2, 3])\n",
    "            theta = tf.tile(theta_initial, [m,1,1])    \n",
    "\n",
    "        net = module.spatial_transformer_network(net, theta)\n",
    "        net_flat = tf.reshape(net, [-1, 7*7*128])\n",
    "        logits = slim.fully_connected(net_flat, 10)\n",
    "        return logits, theta_original"
   ]
  },
  {
   "cell_type": "code",
   "execution_count": 39,
   "metadata": {
    "scrolled": true
   },
   "outputs": [
    {
     "name": "stdout",
     "output_type": "stream",
     "text": [
      "WARNING:tensorflow:From /home/sogangori/anaconda3/lib/python3.7/site-packages/tensorflow/python/training/saver.py:1266: checkpoint_exists (from tensorflow.python.training.checkpoint_management) is deprecated and will be removed in a future version.\n",
      "Instructions for updating:\n",
      "Use standard file APIs to check for files with this prefix.\n",
      "INFO:tensorflow:Restoring parameters from check1.pkt\n"
     ]
    },
    {
     "name": "stderr",
     "output_type": "stream",
     "text": [
      "/home/sogangori/anaconda3/lib/python3.7/site-packages/tensorflow/python/client/session.py:1702: UserWarning: An interactive session is already active. This can cause out-of-memory errors in some cases. You must explicitly call `InteractiveSession.close()` to release resources held by the other session(s).\n",
      "  warnings.warn('An interactive session is already active. This can '\n"
     ]
    }
   ],
   "source": [
    "learning_rate = 0.01\n",
    "tf.reset_default_graph()\n",
    "X = tf.placeholder(tf.uint8, [None, 28, 28])\n",
    "Y = tf.placeholder(tf.int64, [None])\n",
    "x_4d = tf.expand_dims(X, -1)\n",
    "x = tf.cast(x_4d, tf.float32)/255.0\n",
    "\n",
    "x_rotate = x\n",
    "if not is_scratch:    \n",
    "    x_rotate = rotate(x, 10)\n",
    "    x_rotate = transformation(x)\n",
    "    \n",
    "logits, theta = inference(x_rotate)\n",
    "\n",
    "out =  module.spatial_transformer_network(x_rotate, theta)\n",
    "theta_initial = tf.reshape([1,0,0,0,1,0.0], [-1, 2, 3])\n",
    "\n",
    "acc = tf.reduce_mean(tf.cast(tf.equal(tf.arg_max(logits, -1, output_type=tf.int64), Y), tf.float32))\n",
    "loss_regularization = tf.reduce_mean(tf.losses.get_regularization_losses())\n",
    "\n",
    "cost = tf.reduce_mean(tf.nn.sparse_softmax_cross_entropy_with_logits(logits=logits, labels=Y))\n",
    "cost +=loss_regularization\n",
    "cost_initial_theta = tf.reduce_mean(tf.square(theta - theta_initial))    \n",
    "if is_scratch:    \n",
    "    cost += cost_initial_theta\n",
    "    \n",
    "train = tf.train.GradientDescentOptimizer(learning_rate).minimize(cost)\n",
    "saver = tf.train.Saver()\n",
    "sess = tf.InteractiveSession()\n",
    "if is_scratch:\n",
    "    sess.run(tf.global_variables_initializer())\n",
    "else:\n",
    "    saver.restore(sess, pkt)"
   ]
  },
  {
   "cell_type": "code",
   "execution_count": null,
   "metadata": {},
   "outputs": [
    {
     "name": "stdout",
     "output_type": "stream",
     "text": [
      "0 0.984 0.05549636 0.26741984\n",
      "100 0.985 0.056971945 0.26299992\n",
      "200 0.993 0.031527523 0.2630481\n",
      "300 0.988 0.045598 0.29242095\n",
      "400 0.993 0.02918312 0.21998607\n",
      "500 0.985 0.03972446 0.28584126\n",
      "600 0.992 0.039231755 0.2879576\n",
      "700 0.991 0.040445734 0.26153263\n"
     ]
    }
   ],
   "source": [
    "data_m = 1000\n",
    "epoch = 1000\n",
    "for i in range(epoch+1):\n",
    "    feed = {X:x_train[:data_m],Y:y_train[:data_m]}\n",
    "    _, _cost, _cost_initial_theta, _acc, out_sample = sess.run([train, cost, cost_initial_theta, acc, out], feed)\n",
    "    if i%(epoch//10)==0:\n",
    "        print(i, _acc, _cost,_cost_initial_theta)\n",
    "        \n",
    "saver.save(sess, pkt)"
   ]
  },
  {
   "cell_type": "code",
   "execution_count": 47,
   "metadata": {},
   "outputs": [
    {
     "data": {
      "image/png": "[encoded data removed]",
      "text/plain": [
       "<Figure size 432x288 with 30 Axes>"
      ]
     },
     "metadata": {
      "needs_background": "light"
     },
     "output_type": "display_data"
    }
   ],
   "source": [
    "_x, _x_rot, _out = sess.run([x, x_rotate, out], {X:x_train[:data_m]})\n",
    "display_img = np.stack((_x, _x_rot, _out), axis=0)\n",
    "display_output(display_img)"
   ]
  },
  {
   "cell_type": "code",
   "execution_count": null,
   "metadata": {},
   "outputs": [],
   "source": []
  }
 ],
 "metadata": {
  "kernelspec": {
   "display_name": "Python 3",
   "language": "python",
   "name": "python3"
  },
  "language_info": {
   "codemirror_mode": {
    "name": "ipython",
    "version": 3
   },
   "file_extension": ".py",
   "mimetype": "text/x-python",
   "name": "python",
   "nbconvert_exporter": "python",
   "pygments_lexer": "ipython3",
   "version": "3.7.1"
  }
 },
 "nbformat": 4,
 "nbformat_minor": 2
}
